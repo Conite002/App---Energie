{
 "cells": [
  {
   "cell_type": "code",
   "execution_count": null,
   "metadata": {},
   "outputs": [],
   "source": []
  },
  {
   "cell_type": "code",
   "execution_count": 5,
   "metadata": {},
   "outputs": [
    {
     "name": "stdout",
     "output_type": "stream",
     "text": [
      "Writing main.py\n"
     ]
    }
   ],
   "source": [
    "%%file main.py\n",
    "\n",
    "\n",
    "import streamlit as st\n",
    "import json\n",
    "import os\n",
    "import matplotlib.pyplot as plt\n",
    "\n",
    "# Charger les données depuis un fichier JSON\n",
    "def load_data(file_path):\n",
    "    if os.path.exists(file_path):\n",
    "        with open(file_path, 'r') as file:\n",
    "            return json.load(file)\n",
    "    return []\n",
    "\n",
    "# Sauvegarder les données dans un fichier JSON\n",
    "def save_data(file_path, data):\n",
    "    with open(file_path, 'w') as file:\n",
    "        json.dump(data, file, indent=4)\n",
    "\n",
    "# Calculer la puissance et le rendement\n",
    "def calculate_power_and_efficiency(input_voltage, output_voltage, input_current, output_current):\n",
    "    power_in = input_voltage * input_current\n",
    "    power_out = output_voltage * output_current\n",
    "    efficiency = (power_out / power_in) * 100 if power_in != 0 else 0\n",
    "    return power_in, power_out, efficiency\n",
    "\n",
    "# Interface utilisateur\n",
    "def main():\n",
    "    st.title(\"Calculateur de Puissance et de Rendement d'un Transformateur\")\n",
    "\n",
    "    # Charger les calculs précédents\n",
    "    file_path = 'calculations.json'\n",
    "    data = load_data(file_path)\n",
    "\n",
    "    # Saisie des données\n",
    "    st.header(\"Nouveau Calcul\")\n",
    "    input_voltage = st.number_input(\"Tension d'entrée (V)\", min_value=0.0)\n",
    "    output_voltage = st.number_input(\"Tension de sortie (V)\", min_value=0.0)\n",
    "    input_current = st.number_input(\"Courant d'entrée (A)\", min_value=0.0)\n",
    "    output_current = st.number_input(\"Courant de sortie (A)\", min_value=0.0)\n",
    "\n",
    "    if st.button(\"Calculer\"):\n",
    "        power_in, power_out, efficiency = calculate_power_and_efficiency(input_voltage, output_voltage, input_current, output_current)\n",
    "        st.write(f\"Puissance d'entrée : {power_in} W\")\n",
    "        st.write(f\"Puissance de sortie : {power_out} W\")\n",
    "        st.write(f\"Rendement : {efficiency:.2f} %\")\n",
    "\n",
    "        # Enregistrer le calcul\n",
    "        new_id = max([item['id'] for item in data], default=0) + 1\n",
    "        data.append({\n",
    "            \"id\": new_id,\n",
    "            \"input_voltage\": input_voltage,\n",
    "            \"output_voltage\": output_voltage,\n",
    "            \"input_current\": input_current,\n",
    "            \"output_current\": output_current,\n",
    "            \"power_in\": power_in,\n",
    "            \"power_out\": power_out,\n",
    "            \"efficiency\": efficiency\n",
    "        })\n",
    "        save_data(file_path, data)\n",
    "\n",
    "    # Afficher l'historique des calculs\n",
    "    st.header(\"Historique des Calculs\")\n",
    "    for item in data:\n",
    "        st.write(f\"ID: {item['id']}\")\n",
    "        st.write(f\"Tension d'entrée : {item['input_voltage']} V\")\n",
    "        st.write(f\"Tension de sortie : {item['output_voltage']} V\")\n",
    "        st.write(f\"Courant d'entrée : {item['input_current']} A\")\n",
    "        st.write(f\"Courant de sortie : {item['output_current']} A\")\n",
    "        st.write(f\"Puissance d'entrée : {item['power_in']} W\")\n",
    "        st.write(f\"Puissance de sortie : {item['power_out']} W\")\n",
    "        st.write(f\"Rendement : {item['efficiency']:.2f} %\")\n",
    "        \n",
    "        # Options pour modifier ou supprimer un calcul\n",
    "        if st.button(f\"Supprimer le calcul {item['id']}\"):\n",
    "            data = [i for i in data if i['id'] != item['id']]\n",
    "            save_data(file_path, data)\n",
    "            st.experimental_rerun()\n",
    "\n",
    "    # Graphe de l'efficacité\n",
    "    st.header(\"Graphique du Rendement\")\n",
    "    efficiencies = [item['efficiency'] for item in data]\n",
    "    if efficiencies:\n",
    "        plt.plot(range(len(efficiencies)), efficiencies, marker='o')\n",
    "        plt.xlabel(\"Calcul #\")\n",
    "        plt.ylabel(\"Rendement (%)\")\n",
    "        st.pyplot(plt)\n",
    "\n",
    "if __name__ == \"__main__\":\n",
    "    main()\n"
   ]
  },
  {
   "cell_type": "code",
   "execution_count": 9,
   "metadata": {},
   "outputs": [
    {
     "name": "stdout",
     "output_type": "stream",
     "text": [
      "^C\n"
     ]
    }
   ],
   "source": [
    "!streamlit run main.py\n"
   ]
  },
  {
   "cell_type": "code",
   "execution_count": null,
   "metadata": {},
   "outputs": [],
   "source": []
  }
 ],
 "metadata": {
  "kernelspec": {
   "display_name": "vsenv",
   "language": "python",
   "name": "python3"
  },
  "language_info": {
   "codemirror_mode": {
    "name": "ipython",
    "version": 3
   },
   "file_extension": ".py",
   "mimetype": "text/x-python",
   "name": "python",
   "nbconvert_exporter": "python",
   "pygments_lexer": "ipython3",
   "version": "3.11.5"
  }
 },
 "nbformat": 4,
 "nbformat_minor": 2
}
