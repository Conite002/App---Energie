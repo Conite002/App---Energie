{
 "cells": [
  {
   "cell_type": "code",
   "execution_count": null,
   "metadata": {},
   "outputs": [],
   "source": []
  },
  {
   "cell_type": "code",
   "execution_count": 14,
   "metadata": {},
   "outputs": [
    {
     "name": "stdout",
     "output_type": "stream",
     "text": [
      "Overwriting main.py\n"
     ]
    }
   ],
   "source": [
    "%%file main.py\n",
    "\n",
    "\n",
    "import streamlit as st\n",
    "import json\n",
    "import os\n",
    "import matplotlib.pyplot as plt\n",
    "import random\n",
    "\n",
    "# Charger les données depuis un fichier JSON\n",
    "def load_data(file_path):\n",
    "    if os.path.exists(file_path):\n",
    "        with open(file_path, 'r') as file:\n",
    "            return json.load(file)\n",
    "    return []\n",
    "\n",
    "# Sauvegarder les données dans un fichier JSON\n",
    "def save_data(file_path, data):\n",
    "    with open(file_path, 'w') as file:\n",
    "        json.dump(data, file, indent=4)\n",
    "\n",
    "# Calculer la puissance et le rendement\n",
    "def calculate_power_and_efficiency(input_voltage, output_voltage, input_current, output_current):\n",
    "    power_in = input_voltage * input_current\n",
    "    power_out = output_voltage * output_current\n",
    "    efficiency = (power_out / power_in) * 100 if power_in != 0 else 0\n",
    "    return power_in, power_out, efficiency\n",
    "\n",
    "# Fonction pour formater les valeurs avec des couleurs\n",
    "def format_value(label, value, unit, color):\n",
    "    return f'<span style=\"color:{color};\">{label}: {value} {unit}</span>'\n",
    "\n",
    "# Interface utilisateur\n",
    "def main():\n",
    "    st.title(\"Calculateur de Puissance et de Rendement d'un Transformateur\")\n",
    "\n",
    "    # Charger les calculs précédents\n",
    "    file_path = 'calculations.json'\n",
    "    data = load_data(file_path)\n",
    "\n",
    "    # Affichage de l'historique des calculs dans la barre latérale\n",
    "    st.sidebar.header(\"Historique des Calculs\")\n",
    "    for item in data:\n",
    "        with st.sidebar.expander(f\"Calcul {item['id']}\", expanded=False):\n",
    "            st.markdown(format_value(\"Tension d'entrée\", item['input_voltage'], \"V\", \"blue\"), unsafe_allow_html=True)\n",
    "            st.markdown(format_value(\"Tension de sortie\", item['output_voltage'], \"V\", \"green\"), unsafe_allow_html=True)\n",
    "            st.markdown(format_value(\"Courant d'entrée\", item['input_current'], \"A\", \"blue\"), unsafe_allow_html=True)\n",
    "            st.markdown(format_value(\"Courant de sortie\", item['output_current'], \"A\", \"green\"), unsafe_allow_html=True)\n",
    "            st.markdown(format_value(\"Puissance d'entrée\", item['power_in'], \"W\", \"blue\"), unsafe_allow_html=True)\n",
    "            st.markdown(format_value(\"Puissance de sortie\", item['power_out'], \"W\", \"green\"), unsafe_allow_html=True)\n",
    "            st.markdown(format_value(\"Rendement\", f\"{item['efficiency']:.2f}\", \"%\", \"red\"), unsafe_allow_html=True)\n",
    "            \n",
    "            if st.button(f\"Supprimer le calcul {item['id']}\", key=f\"delete_{item['id']}\"):\n",
    "                data = [i for i in data if i['id'] != item['id']]\n",
    "                save_data(file_path, data)\n",
    "\n",
    "                # Ajouter un paramètre aléatoire pour forcer le rechargement de la page\n",
    "                st.experimental_set_query_params(updated=str(random.randint(0, 100000)))\n",
    "\n",
    "    # Saisie des données pour un nouveau calcul\n",
    "    st.header(\"Nouveau Calcul\")\n",
    "    input_voltage = st.number_input(\"Tension d'entrée (V)\", min_value=0.0)\n",
    "    output_voltage = st.number_input(\"Tension de sortie (V)\", min_value=0.0)\n",
    "    input_current = st.number_input(\"Courant d'entrée (A)\", min_value=0.0)\n",
    "    output_current = st.number_input(\"Courant de sortie (A)\", min_value=0.0)\n",
    "\n",
    "    if st.button(\"Calculer\"):\n",
    "        power_in, power_out, efficiency = calculate_power_and_efficiency(input_voltage, output_voltage, input_current, output_current)\n",
    "        \n",
    "        # Afficher les résultats avec des couleurs\n",
    "        st.markdown(format_value(\"Puissance d'entrée\", power_in, \"W\", \"blue\"), unsafe_allow_html=True)\n",
    "        st.markdown(format_value(\"Puissance de sortie\", power_out, \"W\", \"green\"), unsafe_allow_html=True)\n",
    "        st.markdown(format_value(\"Rendement\", f\"{efficiency:.2f}\", \"%\", \"red\"), unsafe_allow_html=True)\n",
    "\n",
    "        # Enregistrer le calcul\n",
    "        new_id = max([item['id'] for item in data], default=0) + 1\n",
    "        data.append({\n",
    "            \"id\": new_id,\n",
    "            \"input_voltage\": input_voltage,\n",
    "            \"output_voltage\": output_voltage,\n",
    "            \"input_current\": input_current,\n",
    "            \"output_current\": output_current,\n",
    "            \"power_in\": power_in,\n",
    "            \"power_out\": power_out,\n",
    "            \"efficiency\": efficiency\n",
    "        })\n",
    "        save_data(file_path, data)\n",
    "\n",
    "    # Graphe de l'efficacité\n",
    "    st.header(\"Graphique du Rendement\")\n",
    "    efficiencies = [item['efficiency'] for item in data]\n",
    "    if efficiencies:\n",
    "        plt.figure(figsize=(8, 6))\n",
    "        plt.plot(range(len(efficiencies)), efficiencies, marker='o', color='blue', linestyle='-', linewidth=2, markersize=8)\n",
    "        plt.xlabel(\"Calcul #\", fontsize=14)\n",
    "        plt.ylabel(\"Rendement (%)\", fontsize=14)\n",
    "        plt.title(\"Évolution du Rendement des Transformateurs\", fontsize=16)\n",
    "        plt.grid(True)\n",
    "        st.pyplot(plt)\n",
    "\n",
    "if __name__ == \"__main__\":\n",
    "    main()\n"
   ]
  },
  {
   "cell_type": "code",
   "execution_count": 9,
   "metadata": {},
   "outputs": [
    {
     "name": "stdout",
     "output_type": "stream",
     "text": [
      "^C\n"
     ]
    }
   ],
   "source": [
    "!streamlit run main.py\n"
   ]
  },
  {
   "cell_type": "code",
   "execution_count": null,
   "metadata": {},
   "outputs": [],
   "source": []
  }
 ],
 "metadata": {
  "kernelspec": {
   "display_name": "vsenv",
   "language": "python",
   "name": "python3"
  },
  "language_info": {
   "codemirror_mode": {
    "name": "ipython",
    "version": 3
   },
   "file_extension": ".py",
   "mimetype": "text/x-python",
   "name": "python",
   "nbconvert_exporter": "python",
   "pygments_lexer": "ipython3",
   "version": "3.11.5"
  }
 },
 "nbformat": 4,
 "nbformat_minor": 2
}
